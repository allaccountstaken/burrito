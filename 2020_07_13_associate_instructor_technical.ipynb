{
 "cells": [
  {
   "cell_type": "markdown",
   "metadata": {
    "id": "_Gvm1BZXjuBx"
   },
   "source": [
    "Lambda School Data Science\n",
    "\n",
    "---"
   ]
  },
  {
   "cell_type": "markdown",
   "metadata": {
    "id": "7IXUfiQ2UKj6"
   },
   "source": [
    "# Logistic Regression\n",
    "\n",
    "\n",
    "## Assignment 🌯\n",
    "\n",
    "Using a [**dataset of 400+ burrito reviews**](https://srcole.github.io/100burritos/), build a model that predicts whether a burrito is rated `'Great'`?\n",
    "\n",
    "## What We Want\n",
    "\n",
    "*Associate Instructor* is a teaching position where you will work closely students — delivering curriculum, and leading question and answer sessions. The purpose of this assignment is to give us an idea of how you approach data science problems and whether you can explain that approach to someone who does not yet have your level of expertise. Given this, we are less interested you building a \"perfect\" model and more focused on how you use this assignment to teach important concepts to a data science student.\n",
    "\n",
    "## What You Need to Do\n",
    "\n",
    "- [ ] Make a copy of this notebook to work on - you can download if you have a local Jupyter setup, or click `File > Save a copy in Drive` to copy and work on with Google Colab\n",
    "- [ ] Import the burrito `csv` file into a `DataFrame`. Your target will be the `'Great'` column.\n",
    "- [ ] Conduct exploratory data analysis (EDA) to determine how you should clean the data for your pipeline.\n",
    "- [ ] Clean your data. (Note: You are not required to use all columns in your model, but justify your decisions based on your EDA.)\n",
    "- [ ] Do train/validate/test split. Train on reviews from 2016 & earlier. Validate on 2017. Test on 2018 & later.\n",
    "- [ ] Determine what the baseline accuracy is for a naïve classification model.\n",
    "- [ ] Create a `scikit-learn` pipeline with the following components:\n",
    "  - A one hot encoder for categorical features.\n",
    "  - A scaler.\n",
    "  - A logistic regressor.\n",
    "- [ ] Train your model using the training data.\n",
    "- [ ] Create a visualization showing your model's coefficients.\n",
    "- [ ] Get your model's validation accuracy (multiple times if you try multiple iterations).\n",
    "- [ ] Get your model's test accuracy (one time, at the end).\n",
    "\n",
    "---"
   ]
  },
  {
   "cell_type": "markdown",
   "metadata": {
    "id": "UhHu6AF7ML3p"
   },
   "source": [
    "### Import the burrito `csv` file"
   ]
  },
  {
   "cell_type": "code",
   "execution_count": 23,
   "metadata": {
    "id": "stdgqGAYjuB3"
   },
   "outputs": [],
   "source": [
    "# Import Data\n",
    "import pandas as pd\n",
    "df = pd.read_csv('https://drive.google.com/uc?export=download&id=1cctPq1sYeD6Y6mGg5Lpl-GLDJBwtdihg', index_col=0)"
   ]
  },
  {
   "cell_type": "code",
   "execution_count": 24,
   "metadata": {},
   "outputs": [
    {
     "data": {
      "text/plain": [
       "(421, 64)"
      ]
     },
     "execution_count": 24,
     "metadata": {},
     "output_type": "execute_result"
    }
   ],
   "source": [
    "df.shape"
   ]
  },
  {
   "cell_type": "code",
   "execution_count": 25,
   "metadata": {},
   "outputs": [
    {
     "name": "stdout",
     "output_type": "stream",
     "text": [
      "<class 'pandas.core.frame.DataFrame'>\n",
      "Index: 421 entries, Donato's taco shop to Valentine's Mexican Food\n",
      "Data columns (total 64 columns):\n",
      " #   Column          Non-Null Count  Dtype  \n",
      "---  ------          --------------  -----  \n",
      " 0   Burrito         421 non-null    object \n",
      " 1   Date            421 non-null    object \n",
      " 2   Neighborhood    92 non-null     object \n",
      " 3   Address         88 non-null     object \n",
      " 4   URL             87 non-null     object \n",
      " 5   Yelp            87 non-null     float64\n",
      " 6   Google          87 non-null     float64\n",
      " 7   Chips           26 non-null     object \n",
      " 8   Cost            414 non-null    float64\n",
      " 9   Hunger          418 non-null    float64\n",
      " 10  Mass (g)        22 non-null     float64\n",
      " 11  Density (g/mL)  22 non-null     float64\n",
      " 12  Length          283 non-null    float64\n",
      " 13  Circum          281 non-null    float64\n",
      " 14  Volume          281 non-null    float64\n",
      " 15  Tortilla        421 non-null    float64\n",
      " 16  Temp            401 non-null    float64\n",
      " 17  Meat            407 non-null    float64\n",
      " 18  Fillings        418 non-null    float64\n",
      " 19  Meat:filling    412 non-null    float64\n",
      " 20  Uniformity      419 non-null    float64\n",
      " 21  Salsa           396 non-null    float64\n",
      " 22  Synergy         419 non-null    float64\n",
      " 23  Wrap            418 non-null    float64\n",
      " 24  Reviewer        420 non-null    object \n",
      " 25  Notes           146 non-null    object \n",
      " 26  Unreliable      33 non-null     object \n",
      " 27  NonSD           7 non-null      object \n",
      " 28  Beef            179 non-null    object \n",
      " 29  Pico            158 non-null    object \n",
      " 30  Guac            154 non-null    object \n",
      " 31  Cheese          159 non-null    object \n",
      " 32  Fries           127 non-null    object \n",
      " 33  Sour cream      92 non-null     object \n",
      " 34  Pork            51 non-null     object \n",
      " 35  Chicken         21 non-null     object \n",
      " 36  Shrimp          21 non-null     object \n",
      " 37  Fish            6 non-null      object \n",
      " 38  Rice            36 non-null     object \n",
      " 39  Beans           35 non-null     object \n",
      " 40  Lettuce         11 non-null     object \n",
      " 41  Tomato          7 non-null      object \n",
      " 42  Bell peper      7 non-null      object \n",
      " 43  Carrots         1 non-null      object \n",
      " 44  Cabbage         8 non-null      object \n",
      " 45  Sauce           38 non-null     object \n",
      " 46  Salsa.1         7 non-null      object \n",
      " 47  Cilantro        15 non-null     object \n",
      " 48  Onion           17 non-null     object \n",
      " 49  Taquito         4 non-null      object \n",
      " 50  Pineapple       7 non-null      object \n",
      " 51  Ham             2 non-null      object \n",
      " 52  Chile relleno   4 non-null      object \n",
      " 53  Nopales         4 non-null      object \n",
      " 54  Lobster         1 non-null      object \n",
      " 55  Queso           0 non-null      float64\n",
      " 56  Egg             5 non-null      object \n",
      " 57  Mushroom        3 non-null      object \n",
      " 58  Bacon           3 non-null      object \n",
      " 59  Sushi           2 non-null      object \n",
      " 60  Avocado         13 non-null     object \n",
      " 61  Corn            3 non-null      object \n",
      " 62  Zucchini        1 non-null      object \n",
      " 63  Great           421 non-null    bool   \n",
      "dtypes: bool(1), float64(19), object(44)\n",
      "memory usage: 210.9+ KB\n"
     ]
    }
   ],
   "source": [
    "df.info()"
   ]
  },
  {
   "cell_type": "code",
   "execution_count": 26,
   "metadata": {},
   "outputs": [
    {
     "data": {
      "text/html": [
       "<div>\n",
       "<style scoped>\n",
       "    .dataframe tbody tr th:only-of-type {\n",
       "        vertical-align: middle;\n",
       "    }\n",
       "\n",
       "    .dataframe tbody tr th {\n",
       "        vertical-align: top;\n",
       "    }\n",
       "\n",
       "    .dataframe thead th {\n",
       "        text-align: right;\n",
       "    }\n",
       "</style>\n",
       "<table border=\"1\" class=\"dataframe\">\n",
       "  <thead>\n",
       "    <tr style=\"text-align: right;\">\n",
       "      <th></th>\n",
       "      <th>Yelp</th>\n",
       "      <th>Google</th>\n",
       "      <th>Cost</th>\n",
       "      <th>Hunger</th>\n",
       "      <th>Mass (g)</th>\n",
       "      <th>Density (g/mL)</th>\n",
       "      <th>Length</th>\n",
       "      <th>Circum</th>\n",
       "      <th>Volume</th>\n",
       "      <th>Tortilla</th>\n",
       "      <th>Temp</th>\n",
       "      <th>Meat</th>\n",
       "      <th>Fillings</th>\n",
       "      <th>Meat:filling</th>\n",
       "      <th>Uniformity</th>\n",
       "      <th>Salsa</th>\n",
       "      <th>Synergy</th>\n",
       "      <th>Wrap</th>\n",
       "      <th>Queso</th>\n",
       "    </tr>\n",
       "  </thead>\n",
       "  <tbody>\n",
       "    <tr>\n",
       "      <th>count</th>\n",
       "      <td>87.000000</td>\n",
       "      <td>87.000000</td>\n",
       "      <td>414.000000</td>\n",
       "      <td>418.000000</td>\n",
       "      <td>22.000000</td>\n",
       "      <td>22.000000</td>\n",
       "      <td>283.000000</td>\n",
       "      <td>281.000000</td>\n",
       "      <td>281.000000</td>\n",
       "      <td>421.000000</td>\n",
       "      <td>401.000000</td>\n",
       "      <td>407.000000</td>\n",
       "      <td>418.000000</td>\n",
       "      <td>412.000000</td>\n",
       "      <td>419.000000</td>\n",
       "      <td>396.000000</td>\n",
       "      <td>419.000000</td>\n",
       "      <td>418.000000</td>\n",
       "      <td>0.0</td>\n",
       "    </tr>\n",
       "    <tr>\n",
       "      <th>mean</th>\n",
       "      <td>3.887356</td>\n",
       "      <td>4.167816</td>\n",
       "      <td>7.067343</td>\n",
       "      <td>3.495335</td>\n",
       "      <td>546.181818</td>\n",
       "      <td>0.675277</td>\n",
       "      <td>20.038233</td>\n",
       "      <td>22.135765</td>\n",
       "      <td>0.786477</td>\n",
       "      <td>3.519477</td>\n",
       "      <td>3.783042</td>\n",
       "      <td>3.620393</td>\n",
       "      <td>3.539833</td>\n",
       "      <td>3.586481</td>\n",
       "      <td>3.428998</td>\n",
       "      <td>3.371970</td>\n",
       "      <td>3.586993</td>\n",
       "      <td>3.979904</td>\n",
       "      <td>NaN</td>\n",
       "    </tr>\n",
       "    <tr>\n",
       "      <th>std</th>\n",
       "      <td>0.475396</td>\n",
       "      <td>0.373698</td>\n",
       "      <td>1.506742</td>\n",
       "      <td>0.812069</td>\n",
       "      <td>144.445619</td>\n",
       "      <td>0.080468</td>\n",
       "      <td>2.083518</td>\n",
       "      <td>1.779408</td>\n",
       "      <td>0.152531</td>\n",
       "      <td>0.794438</td>\n",
       "      <td>0.980338</td>\n",
       "      <td>0.829254</td>\n",
       "      <td>0.799549</td>\n",
       "      <td>0.997057</td>\n",
       "      <td>1.068794</td>\n",
       "      <td>0.924037</td>\n",
       "      <td>0.886807</td>\n",
       "      <td>1.118185</td>\n",
       "      <td>NaN</td>\n",
       "    </tr>\n",
       "    <tr>\n",
       "      <th>min</th>\n",
       "      <td>2.500000</td>\n",
       "      <td>2.900000</td>\n",
       "      <td>2.990000</td>\n",
       "      <td>0.500000</td>\n",
       "      <td>350.000000</td>\n",
       "      <td>0.560000</td>\n",
       "      <td>15.000000</td>\n",
       "      <td>17.000000</td>\n",
       "      <td>0.400000</td>\n",
       "      <td>1.000000</td>\n",
       "      <td>1.000000</td>\n",
       "      <td>1.000000</td>\n",
       "      <td>1.000000</td>\n",
       "      <td>0.500000</td>\n",
       "      <td>0.000000</td>\n",
       "      <td>0.000000</td>\n",
       "      <td>1.000000</td>\n",
       "      <td>0.000000</td>\n",
       "      <td>NaN</td>\n",
       "    </tr>\n",
       "    <tr>\n",
       "      <th>25%</th>\n",
       "      <td>3.500000</td>\n",
       "      <td>4.000000</td>\n",
       "      <td>6.250000</td>\n",
       "      <td>3.000000</td>\n",
       "      <td>450.000000</td>\n",
       "      <td>0.619485</td>\n",
       "      <td>18.500000</td>\n",
       "      <td>21.000000</td>\n",
       "      <td>0.680000</td>\n",
       "      <td>3.000000</td>\n",
       "      <td>3.000000</td>\n",
       "      <td>3.000000</td>\n",
       "      <td>3.000000</td>\n",
       "      <td>3.000000</td>\n",
       "      <td>2.600000</td>\n",
       "      <td>3.000000</td>\n",
       "      <td>3.000000</td>\n",
       "      <td>3.500000</td>\n",
       "      <td>NaN</td>\n",
       "    </tr>\n",
       "    <tr>\n",
       "      <th>50%</th>\n",
       "      <td>4.000000</td>\n",
       "      <td>4.200000</td>\n",
       "      <td>6.990000</td>\n",
       "      <td>3.500000</td>\n",
       "      <td>540.000000</td>\n",
       "      <td>0.658099</td>\n",
       "      <td>20.000000</td>\n",
       "      <td>22.000000</td>\n",
       "      <td>0.770000</td>\n",
       "      <td>3.500000</td>\n",
       "      <td>4.000000</td>\n",
       "      <td>3.800000</td>\n",
       "      <td>3.500000</td>\n",
       "      <td>4.000000</td>\n",
       "      <td>3.500000</td>\n",
       "      <td>3.500000</td>\n",
       "      <td>3.800000</td>\n",
       "      <td>4.000000</td>\n",
       "      <td>NaN</td>\n",
       "    </tr>\n",
       "    <tr>\n",
       "      <th>75%</th>\n",
       "      <td>4.000000</td>\n",
       "      <td>4.400000</td>\n",
       "      <td>7.880000</td>\n",
       "      <td>4.000000</td>\n",
       "      <td>595.000000</td>\n",
       "      <td>0.721726</td>\n",
       "      <td>21.500000</td>\n",
       "      <td>23.000000</td>\n",
       "      <td>0.880000</td>\n",
       "      <td>4.000000</td>\n",
       "      <td>4.500000</td>\n",
       "      <td>4.000000</td>\n",
       "      <td>4.000000</td>\n",
       "      <td>4.000000</td>\n",
       "      <td>4.000000</td>\n",
       "      <td>4.000000</td>\n",
       "      <td>4.000000</td>\n",
       "      <td>5.000000</td>\n",
       "      <td>NaN</td>\n",
       "    </tr>\n",
       "    <tr>\n",
       "      <th>max</th>\n",
       "      <td>4.500000</td>\n",
       "      <td>5.000000</td>\n",
       "      <td>25.000000</td>\n",
       "      <td>5.000000</td>\n",
       "      <td>925.000000</td>\n",
       "      <td>0.865672</td>\n",
       "      <td>26.000000</td>\n",
       "      <td>29.000000</td>\n",
       "      <td>1.540000</td>\n",
       "      <td>5.000000</td>\n",
       "      <td>5.000000</td>\n",
       "      <td>5.000000</td>\n",
       "      <td>5.000000</td>\n",
       "      <td>5.000000</td>\n",
       "      <td>5.000000</td>\n",
       "      <td>5.000000</td>\n",
       "      <td>5.000000</td>\n",
       "      <td>5.000000</td>\n",
       "      <td>NaN</td>\n",
       "    </tr>\n",
       "  </tbody>\n",
       "</table>\n",
       "</div>"
      ],
      "text/plain": [
       "            Yelp     Google        Cost      Hunger    Mass (g)  \\\n",
       "count  87.000000  87.000000  414.000000  418.000000   22.000000   \n",
       "mean    3.887356   4.167816    7.067343    3.495335  546.181818   \n",
       "std     0.475396   0.373698    1.506742    0.812069  144.445619   \n",
       "min     2.500000   2.900000    2.990000    0.500000  350.000000   \n",
       "25%     3.500000   4.000000    6.250000    3.000000  450.000000   \n",
       "50%     4.000000   4.200000    6.990000    3.500000  540.000000   \n",
       "75%     4.000000   4.400000    7.880000    4.000000  595.000000   \n",
       "max     4.500000   5.000000   25.000000    5.000000  925.000000   \n",
       "\n",
       "       Density (g/mL)      Length      Circum      Volume    Tortilla  \\\n",
       "count       22.000000  283.000000  281.000000  281.000000  421.000000   \n",
       "mean         0.675277   20.038233   22.135765    0.786477    3.519477   \n",
       "std          0.080468    2.083518    1.779408    0.152531    0.794438   \n",
       "min          0.560000   15.000000   17.000000    0.400000    1.000000   \n",
       "25%          0.619485   18.500000   21.000000    0.680000    3.000000   \n",
       "50%          0.658099   20.000000   22.000000    0.770000    3.500000   \n",
       "75%          0.721726   21.500000   23.000000    0.880000    4.000000   \n",
       "max          0.865672   26.000000   29.000000    1.540000    5.000000   \n",
       "\n",
       "             Temp        Meat    Fillings  Meat:filling  Uniformity  \\\n",
       "count  401.000000  407.000000  418.000000    412.000000  419.000000   \n",
       "mean     3.783042    3.620393    3.539833      3.586481    3.428998   \n",
       "std      0.980338    0.829254    0.799549      0.997057    1.068794   \n",
       "min      1.000000    1.000000    1.000000      0.500000    0.000000   \n",
       "25%      3.000000    3.000000    3.000000      3.000000    2.600000   \n",
       "50%      4.000000    3.800000    3.500000      4.000000    3.500000   \n",
       "75%      4.500000    4.000000    4.000000      4.000000    4.000000   \n",
       "max      5.000000    5.000000    5.000000      5.000000    5.000000   \n",
       "\n",
       "            Salsa     Synergy        Wrap  Queso  \n",
       "count  396.000000  419.000000  418.000000    0.0  \n",
       "mean     3.371970    3.586993    3.979904    NaN  \n",
       "std      0.924037    0.886807    1.118185    NaN  \n",
       "min      0.000000    1.000000    0.000000    NaN  \n",
       "25%      3.000000    3.000000    3.500000    NaN  \n",
       "50%      3.500000    3.800000    4.000000    NaN  \n",
       "75%      4.000000    4.000000    5.000000    NaN  \n",
       "max      5.000000    5.000000    5.000000    NaN  "
      ]
     },
     "execution_count": 26,
     "metadata": {},
     "output_type": "execute_result"
    }
   ],
   "source": [
    "df.describe()"
   ]
  },
  {
   "cell_type": "code",
   "execution_count": 27,
   "metadata": {},
   "outputs": [
    {
     "data": {
      "text/html": [
       "<div>\n",
       "<style scoped>\n",
       "    .dataframe tbody tr th:only-of-type {\n",
       "        vertical-align: middle;\n",
       "    }\n",
       "\n",
       "    .dataframe tbody tr th {\n",
       "        vertical-align: top;\n",
       "    }\n",
       "\n",
       "    .dataframe thead th {\n",
       "        text-align: right;\n",
       "    }\n",
       "</style>\n",
       "<table border=\"1\" class=\"dataframe\">\n",
       "  <thead>\n",
       "    <tr style=\"text-align: right;\">\n",
       "      <th></th>\n",
       "      <th>Burrito</th>\n",
       "      <th>Date</th>\n",
       "      <th>Neighborhood</th>\n",
       "      <th>Address</th>\n",
       "      <th>URL</th>\n",
       "      <th>Yelp</th>\n",
       "      <th>Google</th>\n",
       "      <th>Chips</th>\n",
       "      <th>Cost</th>\n",
       "      <th>Hunger</th>\n",
       "      <th>...</th>\n",
       "      <th>Lobster</th>\n",
       "      <th>Queso</th>\n",
       "      <th>Egg</th>\n",
       "      <th>Mushroom</th>\n",
       "      <th>Bacon</th>\n",
       "      <th>Sushi</th>\n",
       "      <th>Avocado</th>\n",
       "      <th>Corn</th>\n",
       "      <th>Zucchini</th>\n",
       "      <th>Great</th>\n",
       "    </tr>\n",
       "    <tr>\n",
       "      <th>Location</th>\n",
       "      <th></th>\n",
       "      <th></th>\n",
       "      <th></th>\n",
       "      <th></th>\n",
       "      <th></th>\n",
       "      <th></th>\n",
       "      <th></th>\n",
       "      <th></th>\n",
       "      <th></th>\n",
       "      <th></th>\n",
       "      <th></th>\n",
       "      <th></th>\n",
       "      <th></th>\n",
       "      <th></th>\n",
       "      <th></th>\n",
       "      <th></th>\n",
       "      <th></th>\n",
       "      <th></th>\n",
       "      <th></th>\n",
       "      <th></th>\n",
       "      <th></th>\n",
       "    </tr>\n",
       "  </thead>\n",
       "  <tbody>\n",
       "    <tr>\n",
       "      <th>Donato's taco shop</th>\n",
       "      <td>California</td>\n",
       "      <td>1/18/2016</td>\n",
       "      <td>Miramar</td>\n",
       "      <td>6780 Miramar Rd</td>\n",
       "      <td>http://donatostacoshop.net/</td>\n",
       "      <td>3.5</td>\n",
       "      <td>4.2</td>\n",
       "      <td>NaN</td>\n",
       "      <td>6.49</td>\n",
       "      <td>3.0</td>\n",
       "      <td>...</td>\n",
       "      <td>NaN</td>\n",
       "      <td>NaN</td>\n",
       "      <td>NaN</td>\n",
       "      <td>NaN</td>\n",
       "      <td>NaN</td>\n",
       "      <td>NaN</td>\n",
       "      <td>NaN</td>\n",
       "      <td>NaN</td>\n",
       "      <td>NaN</td>\n",
       "      <td>False</td>\n",
       "    </tr>\n",
       "    <tr>\n",
       "      <th>Oscar's Mexican food</th>\n",
       "      <td>California</td>\n",
       "      <td>1/24/2016</td>\n",
       "      <td>San Marcos</td>\n",
       "      <td>225 S Rancho Santa Fe Rd</td>\n",
       "      <td>http://www.yelp.com/biz/oscars-mexican-food-sa...</td>\n",
       "      <td>3.5</td>\n",
       "      <td>3.3</td>\n",
       "      <td>NaN</td>\n",
       "      <td>5.45</td>\n",
       "      <td>3.5</td>\n",
       "      <td>...</td>\n",
       "      <td>NaN</td>\n",
       "      <td>NaN</td>\n",
       "      <td>NaN</td>\n",
       "      <td>NaN</td>\n",
       "      <td>NaN</td>\n",
       "      <td>NaN</td>\n",
       "      <td>NaN</td>\n",
       "      <td>NaN</td>\n",
       "      <td>NaN</td>\n",
       "      <td>False</td>\n",
       "    </tr>\n",
       "    <tr>\n",
       "      <th>Oscar's Mexican food</th>\n",
       "      <td>Carnitas</td>\n",
       "      <td>1/24/2016</td>\n",
       "      <td>NaN</td>\n",
       "      <td>NaN</td>\n",
       "      <td>NaN</td>\n",
       "      <td>NaN</td>\n",
       "      <td>NaN</td>\n",
       "      <td>NaN</td>\n",
       "      <td>4.85</td>\n",
       "      <td>1.5</td>\n",
       "      <td>...</td>\n",
       "      <td>NaN</td>\n",
       "      <td>NaN</td>\n",
       "      <td>NaN</td>\n",
       "      <td>NaN</td>\n",
       "      <td>NaN</td>\n",
       "      <td>NaN</td>\n",
       "      <td>NaN</td>\n",
       "      <td>NaN</td>\n",
       "      <td>NaN</td>\n",
       "      <td>False</td>\n",
       "    </tr>\n",
       "    <tr>\n",
       "      <th>Oscar's Mexican food</th>\n",
       "      <td>Carne asada</td>\n",
       "      <td>1/24/2016</td>\n",
       "      <td>NaN</td>\n",
       "      <td>NaN</td>\n",
       "      <td>NaN</td>\n",
       "      <td>NaN</td>\n",
       "      <td>NaN</td>\n",
       "      <td>NaN</td>\n",
       "      <td>5.25</td>\n",
       "      <td>2.0</td>\n",
       "      <td>...</td>\n",
       "      <td>NaN</td>\n",
       "      <td>NaN</td>\n",
       "      <td>NaN</td>\n",
       "      <td>NaN</td>\n",
       "      <td>NaN</td>\n",
       "      <td>NaN</td>\n",
       "      <td>NaN</td>\n",
       "      <td>NaN</td>\n",
       "      <td>NaN</td>\n",
       "      <td>False</td>\n",
       "    </tr>\n",
       "    <tr>\n",
       "      <th>Pollos Maria</th>\n",
       "      <td>California</td>\n",
       "      <td>1/27/2016</td>\n",
       "      <td>Carlsbad</td>\n",
       "      <td>3055 Harding St</td>\n",
       "      <td>http://pollosmaria.com/</td>\n",
       "      <td>4.0</td>\n",
       "      <td>3.8</td>\n",
       "      <td>x</td>\n",
       "      <td>6.59</td>\n",
       "      <td>4.0</td>\n",
       "      <td>...</td>\n",
       "      <td>NaN</td>\n",
       "      <td>NaN</td>\n",
       "      <td>NaN</td>\n",
       "      <td>NaN</td>\n",
       "      <td>NaN</td>\n",
       "      <td>NaN</td>\n",
       "      <td>NaN</td>\n",
       "      <td>NaN</td>\n",
       "      <td>NaN</td>\n",
       "      <td>True</td>\n",
       "    </tr>\n",
       "  </tbody>\n",
       "</table>\n",
       "<p>5 rows × 64 columns</p>\n",
       "</div>"
      ],
      "text/plain": [
       "                          Burrito       Date Neighborhood  \\\n",
       "Location                                                    \n",
       "Donato's taco shop    California   1/18/2016      Miramar   \n",
       "Oscar's Mexican food  California   1/24/2016   San Marcos   \n",
       "Oscar's Mexican food     Carnitas  1/24/2016          NaN   \n",
       "Oscar's Mexican food  Carne asada  1/24/2016          NaN   \n",
       "Pollos Maria           California  1/27/2016     Carlsbad   \n",
       "\n",
       "                                       Address  \\\n",
       "Location                                         \n",
       "Donato's taco shop             6780 Miramar Rd   \n",
       "Oscar's Mexican food  225 S Rancho Santa Fe Rd   \n",
       "Oscar's Mexican food                       NaN   \n",
       "Oscar's Mexican food                       NaN   \n",
       "Pollos Maria                   3055 Harding St   \n",
       "\n",
       "                                                                    URL  Yelp  \\\n",
       "Location                                                                        \n",
       "Donato's taco shop                          http://donatostacoshop.net/   3.5   \n",
       "Oscar's Mexican food  http://www.yelp.com/biz/oscars-mexican-food-sa...   3.5   \n",
       "Oscar's Mexican food                                                NaN   NaN   \n",
       "Oscar's Mexican food                                                NaN   NaN   \n",
       "Pollos Maria                                    http://pollosmaria.com/   4.0   \n",
       "\n",
       "                      Google Chips  Cost  Hunger  ...  Lobster  Queso  Egg  \\\n",
       "Location                                          ...                        \n",
       "Donato's taco shop       4.2   NaN  6.49     3.0  ...      NaN    NaN  NaN   \n",
       "Oscar's Mexican food     3.3   NaN  5.45     3.5  ...      NaN    NaN  NaN   \n",
       "Oscar's Mexican food     NaN   NaN  4.85     1.5  ...      NaN    NaN  NaN   \n",
       "Oscar's Mexican food     NaN   NaN  5.25     2.0  ...      NaN    NaN  NaN   \n",
       "Pollos Maria             3.8     x  6.59     4.0  ...      NaN    NaN  NaN   \n",
       "\n",
       "                      Mushroom  Bacon  Sushi  Avocado  Corn  Zucchini  Great  \n",
       "Location                                                                      \n",
       "Donato's taco shop         NaN    NaN    NaN      NaN   NaN       NaN  False  \n",
       "Oscar's Mexican food       NaN    NaN    NaN      NaN   NaN       NaN  False  \n",
       "Oscar's Mexican food       NaN    NaN    NaN      NaN   NaN       NaN  False  \n",
       "Oscar's Mexican food       NaN    NaN    NaN      NaN   NaN       NaN  False  \n",
       "Pollos Maria               NaN    NaN    NaN      NaN   NaN       NaN   True  \n",
       "\n",
       "[5 rows x 64 columns]"
      ]
     },
     "execution_count": 27,
     "metadata": {},
     "output_type": "execute_result"
    }
   ],
   "source": [
    "df.head()"
   ]
  },
  {
   "cell_type": "code",
   "execution_count": 28,
   "metadata": {},
   "outputs": [
    {
     "name": "stdout",
     "output_type": "stream",
     "text": [
      "<class 'pandas.core.frame.DataFrame'>\n",
      "Index: 421 entries, Donato's taco shop to Valentine's Mexican Food\n",
      "Data columns (total 64 columns):\n",
      " #   Column          Non-Null Count  Dtype  \n",
      "---  ------          --------------  -----  \n",
      " 0   Burrito         421 non-null    object \n",
      " 1   Date            421 non-null    object \n",
      " 2   Neighborhood    92 non-null     object \n",
      " 3   Address         88 non-null     object \n",
      " 4   URL             87 non-null     object \n",
      " 5   Yelp            87 non-null     float64\n",
      " 6   Google          87 non-null     float64\n",
      " 7   Chips           26 non-null     object \n",
      " 8   Cost            414 non-null    float64\n",
      " 9   Hunger          418 non-null    float64\n",
      " 10  Mass (g)        22 non-null     float64\n",
      " 11  Density (g/mL)  22 non-null     float64\n",
      " 12  Length          283 non-null    float64\n",
      " 13  Circum          281 non-null    float64\n",
      " 14  Volume          281 non-null    float64\n",
      " 15  Tortilla        421 non-null    float64\n",
      " 16  Temp            401 non-null    float64\n",
      " 17  Meat            407 non-null    float64\n",
      " 18  Fillings        418 non-null    float64\n",
      " 19  Meat:filling    412 non-null    float64\n",
      " 20  Uniformity      419 non-null    float64\n",
      " 21  Salsa           396 non-null    float64\n",
      " 22  Synergy         419 non-null    float64\n",
      " 23  Wrap            418 non-null    float64\n",
      " 24  Reviewer        420 non-null    object \n",
      " 25  Notes           146 non-null    object \n",
      " 26  Unreliable      33 non-null     object \n",
      " 27  NonSD           7 non-null      object \n",
      " 28  Beef            179 non-null    object \n",
      " 29  Pico            158 non-null    object \n",
      " 30  Guac            154 non-null    object \n",
      " 31  Cheese          159 non-null    object \n",
      " 32  Fries           127 non-null    object \n",
      " 33  Sour cream      92 non-null     object \n",
      " 34  Pork            51 non-null     object \n",
      " 35  Chicken         21 non-null     object \n",
      " 36  Shrimp          21 non-null     object \n",
      " 37  Fish            6 non-null      object \n",
      " 38  Rice            36 non-null     object \n",
      " 39  Beans           35 non-null     object \n",
      " 40  Lettuce         11 non-null     object \n",
      " 41  Tomato          7 non-null      object \n",
      " 42  Bell peper      7 non-null      object \n",
      " 43  Carrots         1 non-null      object \n",
      " 44  Cabbage         8 non-null      object \n",
      " 45  Sauce           38 non-null     object \n",
      " 46  Salsa.1         7 non-null      object \n",
      " 47  Cilantro        15 non-null     object \n",
      " 48  Onion           17 non-null     object \n",
      " 49  Taquito         4 non-null      object \n",
      " 50  Pineapple       7 non-null      object \n",
      " 51  Ham             2 non-null      object \n",
      " 52  Chile relleno   4 non-null      object \n",
      " 53  Nopales         4 non-null      object \n",
      " 54  Lobster         1 non-null      object \n",
      " 55  Queso           0 non-null      float64\n",
      " 56  Egg             5 non-null      object \n",
      " 57  Mushroom        3 non-null      object \n",
      " 58  Bacon           3 non-null      object \n",
      " 59  Sushi           2 non-null      object \n",
      " 60  Avocado         13 non-null     object \n",
      " 61  Corn            3 non-null      object \n",
      " 62  Zucchini        1 non-null      object \n",
      " 63  Great           421 non-null    bool   \n",
      "dtypes: bool(1), float64(19), object(44)\n",
      "memory usage: 210.9+ KB\n"
     ]
    }
   ],
   "source": [
    "df.info()"
   ]
  },
  {
   "cell_type": "code",
   "execution_count": 29,
   "metadata": {},
   "outputs": [
    {
     "data": {
      "text/html": [
       "<div>\n",
       "<style scoped>\n",
       "    .dataframe tbody tr th:only-of-type {\n",
       "        vertical-align: middle;\n",
       "    }\n",
       "\n",
       "    .dataframe tbody tr th {\n",
       "        vertical-align: top;\n",
       "    }\n",
       "\n",
       "    .dataframe thead th {\n",
       "        text-align: right;\n",
       "    }\n",
       "</style>\n",
       "<table border=\"1\" class=\"dataframe\">\n",
       "  <thead>\n",
       "    <tr style=\"text-align: right;\">\n",
       "      <th></th>\n",
       "      <th>Burrito</th>\n",
       "      <th>Date</th>\n",
       "      <th>Neighborhood</th>\n",
       "      <th>Address</th>\n",
       "      <th>URL</th>\n",
       "      <th>Yelp</th>\n",
       "      <th>Google</th>\n",
       "      <th>Chips</th>\n",
       "      <th>Cost</th>\n",
       "      <th>Hunger</th>\n",
       "      <th>...</th>\n",
       "      <th>Lobster</th>\n",
       "      <th>Queso</th>\n",
       "      <th>Egg</th>\n",
       "      <th>Mushroom</th>\n",
       "      <th>Bacon</th>\n",
       "      <th>Sushi</th>\n",
       "      <th>Avocado</th>\n",
       "      <th>Corn</th>\n",
       "      <th>Zucchini</th>\n",
       "      <th>Great</th>\n",
       "    </tr>\n",
       "    <tr>\n",
       "      <th>Location</th>\n",
       "      <th></th>\n",
       "      <th></th>\n",
       "      <th></th>\n",
       "      <th></th>\n",
       "      <th></th>\n",
       "      <th></th>\n",
       "      <th></th>\n",
       "      <th></th>\n",
       "      <th></th>\n",
       "      <th></th>\n",
       "      <th></th>\n",
       "      <th></th>\n",
       "      <th></th>\n",
       "      <th></th>\n",
       "      <th></th>\n",
       "      <th></th>\n",
       "      <th></th>\n",
       "      <th></th>\n",
       "      <th></th>\n",
       "      <th></th>\n",
       "      <th></th>\n",
       "    </tr>\n",
       "  </thead>\n",
       "  <tbody>\n",
       "    <tr>\n",
       "      <th>Donato's taco shop</th>\n",
       "      <td>California</td>\n",
       "      <td>1/18/2016</td>\n",
       "      <td>Miramar</td>\n",
       "      <td>6780 Miramar Rd</td>\n",
       "      <td>http://donatostacoshop.net/</td>\n",
       "      <td>3.5</td>\n",
       "      <td>4.2</td>\n",
       "      <td>NaN</td>\n",
       "      <td>6.49</td>\n",
       "      <td>3.0</td>\n",
       "      <td>...</td>\n",
       "      <td>NaN</td>\n",
       "      <td>NaN</td>\n",
       "      <td>NaN</td>\n",
       "      <td>NaN</td>\n",
       "      <td>NaN</td>\n",
       "      <td>NaN</td>\n",
       "      <td>NaN</td>\n",
       "      <td>NaN</td>\n",
       "      <td>NaN</td>\n",
       "      <td>False</td>\n",
       "    </tr>\n",
       "    <tr>\n",
       "      <th>Oscar's Mexican food</th>\n",
       "      <td>California</td>\n",
       "      <td>1/24/2016</td>\n",
       "      <td>San Marcos</td>\n",
       "      <td>225 S Rancho Santa Fe Rd</td>\n",
       "      <td>http://www.yelp.com/biz/oscars-mexican-food-sa...</td>\n",
       "      <td>3.5</td>\n",
       "      <td>3.3</td>\n",
       "      <td>NaN</td>\n",
       "      <td>5.45</td>\n",
       "      <td>3.5</td>\n",
       "      <td>...</td>\n",
       "      <td>NaN</td>\n",
       "      <td>NaN</td>\n",
       "      <td>NaN</td>\n",
       "      <td>NaN</td>\n",
       "      <td>NaN</td>\n",
       "      <td>NaN</td>\n",
       "      <td>NaN</td>\n",
       "      <td>NaN</td>\n",
       "      <td>NaN</td>\n",
       "      <td>False</td>\n",
       "    </tr>\n",
       "    <tr>\n",
       "      <th>Oscar's Mexican food</th>\n",
       "      <td>Carnitas</td>\n",
       "      <td>1/24/2016</td>\n",
       "      <td>NaN</td>\n",
       "      <td>NaN</td>\n",
       "      <td>NaN</td>\n",
       "      <td>NaN</td>\n",
       "      <td>NaN</td>\n",
       "      <td>NaN</td>\n",
       "      <td>4.85</td>\n",
       "      <td>1.5</td>\n",
       "      <td>...</td>\n",
       "      <td>NaN</td>\n",
       "      <td>NaN</td>\n",
       "      <td>NaN</td>\n",
       "      <td>NaN</td>\n",
       "      <td>NaN</td>\n",
       "      <td>NaN</td>\n",
       "      <td>NaN</td>\n",
       "      <td>NaN</td>\n",
       "      <td>NaN</td>\n",
       "      <td>False</td>\n",
       "    </tr>\n",
       "    <tr>\n",
       "      <th>Oscar's Mexican food</th>\n",
       "      <td>Carne asada</td>\n",
       "      <td>1/24/2016</td>\n",
       "      <td>NaN</td>\n",
       "      <td>NaN</td>\n",
       "      <td>NaN</td>\n",
       "      <td>NaN</td>\n",
       "      <td>NaN</td>\n",
       "      <td>NaN</td>\n",
       "      <td>5.25</td>\n",
       "      <td>2.0</td>\n",
       "      <td>...</td>\n",
       "      <td>NaN</td>\n",
       "      <td>NaN</td>\n",
       "      <td>NaN</td>\n",
       "      <td>NaN</td>\n",
       "      <td>NaN</td>\n",
       "      <td>NaN</td>\n",
       "      <td>NaN</td>\n",
       "      <td>NaN</td>\n",
       "      <td>NaN</td>\n",
       "      <td>False</td>\n",
       "    </tr>\n",
       "    <tr>\n",
       "      <th>Pollos Maria</th>\n",
       "      <td>California</td>\n",
       "      <td>1/27/2016</td>\n",
       "      <td>Carlsbad</td>\n",
       "      <td>3055 Harding St</td>\n",
       "      <td>http://pollosmaria.com/</td>\n",
       "      <td>4.0</td>\n",
       "      <td>3.8</td>\n",
       "      <td>x</td>\n",
       "      <td>6.59</td>\n",
       "      <td>4.0</td>\n",
       "      <td>...</td>\n",
       "      <td>NaN</td>\n",
       "      <td>NaN</td>\n",
       "      <td>NaN</td>\n",
       "      <td>NaN</td>\n",
       "      <td>NaN</td>\n",
       "      <td>NaN</td>\n",
       "      <td>NaN</td>\n",
       "      <td>NaN</td>\n",
       "      <td>NaN</td>\n",
       "      <td>True</td>\n",
       "    </tr>\n",
       "  </tbody>\n",
       "</table>\n",
       "<p>5 rows × 64 columns</p>\n",
       "</div>"
      ],
      "text/plain": [
       "                          Burrito       Date Neighborhood  \\\n",
       "Location                                                    \n",
       "Donato's taco shop    California   1/18/2016      Miramar   \n",
       "Oscar's Mexican food  California   1/24/2016   San Marcos   \n",
       "Oscar's Mexican food     Carnitas  1/24/2016          NaN   \n",
       "Oscar's Mexican food  Carne asada  1/24/2016          NaN   \n",
       "Pollos Maria           California  1/27/2016     Carlsbad   \n",
       "\n",
       "                                       Address  \\\n",
       "Location                                         \n",
       "Donato's taco shop             6780 Miramar Rd   \n",
       "Oscar's Mexican food  225 S Rancho Santa Fe Rd   \n",
       "Oscar's Mexican food                       NaN   \n",
       "Oscar's Mexican food                       NaN   \n",
       "Pollos Maria                   3055 Harding St   \n",
       "\n",
       "                                                                    URL  Yelp  \\\n",
       "Location                                                                        \n",
       "Donato's taco shop                          http://donatostacoshop.net/   3.5   \n",
       "Oscar's Mexican food  http://www.yelp.com/biz/oscars-mexican-food-sa...   3.5   \n",
       "Oscar's Mexican food                                                NaN   NaN   \n",
       "Oscar's Mexican food                                                NaN   NaN   \n",
       "Pollos Maria                                    http://pollosmaria.com/   4.0   \n",
       "\n",
       "                      Google Chips  Cost  Hunger  ...  Lobster  Queso  Egg  \\\n",
       "Location                                          ...                        \n",
       "Donato's taco shop       4.2   NaN  6.49     3.0  ...      NaN    NaN  NaN   \n",
       "Oscar's Mexican food     3.3   NaN  5.45     3.5  ...      NaN    NaN  NaN   \n",
       "Oscar's Mexican food     NaN   NaN  4.85     1.5  ...      NaN    NaN  NaN   \n",
       "Oscar's Mexican food     NaN   NaN  5.25     2.0  ...      NaN    NaN  NaN   \n",
       "Pollos Maria             3.8     x  6.59     4.0  ...      NaN    NaN  NaN   \n",
       "\n",
       "                      Mushroom  Bacon  Sushi  Avocado  Corn  Zucchini  Great  \n",
       "Location                                                                      \n",
       "Donato's taco shop         NaN    NaN    NaN      NaN   NaN       NaN  False  \n",
       "Oscar's Mexican food       NaN    NaN    NaN      NaN   NaN       NaN  False  \n",
       "Oscar's Mexican food       NaN    NaN    NaN      NaN   NaN       NaN  False  \n",
       "Oscar's Mexican food       NaN    NaN    NaN      NaN   NaN       NaN  False  \n",
       "Pollos Maria               NaN    NaN    NaN      NaN   NaN       NaN   True  \n",
       "\n",
       "[5 rows x 64 columns]"
      ]
     },
     "execution_count": 29,
     "metadata": {},
     "output_type": "execute_result"
    }
   ],
   "source": [
    "df.head()"
   ]
  },
  {
   "cell_type": "markdown",
   "metadata": {
    "id": "4km-WYWpMoYw"
   },
   "source": [
    "### Conduct exploratory data analysis (EDA)"
   ]
  },
  {
   "cell_type": "markdown",
   "metadata": {},
   "source": [
    "Check the shape of the dataset:"
   ]
  },
  {
   "cell_type": "markdown",
   "metadata": {},
   "source": [
    "Check column names:"
   ]
  },
  {
   "cell_type": "code",
   "execution_count": 32,
   "metadata": {},
   "outputs": [
    {
     "data": {
      "text/plain": [
       "Index(['Burrito', 'Date', 'Neighborhood', 'Address', 'URL', 'Yelp', 'Google',\n",
       "       'Chips', 'Cost', 'Hunger', 'Mass (g)', 'Density (g/mL)', 'Length',\n",
       "       'Circum', 'Volume', 'Tortilla', 'Temp', 'Meat', 'Fillings',\n",
       "       'Meat:filling', 'Uniformity', 'Salsa', 'Synergy', 'Wrap', 'Reviewer',\n",
       "       'Notes', 'Unreliable', 'NonSD', 'Beef', 'Pico', 'Guac', 'Cheese',\n",
       "       'Fries', 'Sour cream', 'Pork', 'Chicken', 'Shrimp', 'Fish', 'Rice',\n",
       "       'Beans', 'Lettuce', 'Tomato', 'Bell peper', 'Carrots', 'Cabbage',\n",
       "       'Sauce', 'Salsa.1', 'Cilantro', 'Onion', 'Taquito', 'Pineapple', 'Ham',\n",
       "       'Chile relleno', 'Nopales', 'Lobster', 'Queso', 'Egg', 'Mushroom',\n",
       "       'Bacon', 'Sushi', 'Avocado', 'Corn', 'Zucchini', 'Great'],\n",
       "      dtype='object')"
      ]
     },
     "execution_count": 32,
     "metadata": {},
     "output_type": "execute_result"
    }
   ],
   "source": [
    "df.columns"
   ]
  },
  {
   "cell_type": "markdown",
   "metadata": {},
   "source": [
    "Check if there are any missing values in the target column, 'Great':"
   ]
  },
  {
   "cell_type": "code",
   "execution_count": 33,
   "metadata": {},
   "outputs": [
    {
     "data": {
      "text/plain": [
       "0"
      ]
     },
     "execution_count": 33,
     "metadata": {},
     "output_type": "execute_result"
    }
   ],
   "source": [
    "df.Great.isnull().sum()"
   ]
  },
  {
   "cell_type": "markdown",
   "metadata": {},
   "source": [
    "Check for balanced samples:"
   ]
  },
  {
   "cell_type": "code",
   "execution_count": 34,
   "metadata": {},
   "outputs": [],
   "source": [
    "df.Great.replace({False: 0, True: 1}, inplace=True)"
   ]
  },
  {
   "cell_type": "code",
   "execution_count": 36,
   "metadata": {},
   "outputs": [
    {
     "data": {
      "text/plain": [
       "(421, 64)"
      ]
     },
     "execution_count": 36,
     "metadata": {},
     "output_type": "execute_result"
    }
   ],
   "source": [
    "df.shape"
   ]
  },
  {
   "cell_type": "code",
   "execution_count": 37,
   "metadata": {},
   "outputs": [
    {
     "data": {
      "text/html": [
       "<div>\n",
       "<style scoped>\n",
       "    .dataframe tbody tr th:only-of-type {\n",
       "        vertical-align: middle;\n",
       "    }\n",
       "\n",
       "    .dataframe tbody tr th {\n",
       "        vertical-align: top;\n",
       "    }\n",
       "\n",
       "    .dataframe thead th {\n",
       "        text-align: right;\n",
       "    }\n",
       "</style>\n",
       "<table border=\"1\" class=\"dataframe\">\n",
       "  <thead>\n",
       "    <tr style=\"text-align: right;\">\n",
       "      <th></th>\n",
       "      <th>Burrito</th>\n",
       "      <th>Date</th>\n",
       "      <th>Neighborhood</th>\n",
       "      <th>Address</th>\n",
       "      <th>URL</th>\n",
       "      <th>Yelp</th>\n",
       "      <th>Google</th>\n",
       "      <th>Chips</th>\n",
       "      <th>Cost</th>\n",
       "      <th>Hunger</th>\n",
       "      <th>...</th>\n",
       "      <th>Nopales</th>\n",
       "      <th>Lobster</th>\n",
       "      <th>Queso</th>\n",
       "      <th>Egg</th>\n",
       "      <th>Mushroom</th>\n",
       "      <th>Bacon</th>\n",
       "      <th>Sushi</th>\n",
       "      <th>Avocado</th>\n",
       "      <th>Corn</th>\n",
       "      <th>Zucchini</th>\n",
       "    </tr>\n",
       "    <tr>\n",
       "      <th>Great</th>\n",
       "      <th></th>\n",
       "      <th></th>\n",
       "      <th></th>\n",
       "      <th></th>\n",
       "      <th></th>\n",
       "      <th></th>\n",
       "      <th></th>\n",
       "      <th></th>\n",
       "      <th></th>\n",
       "      <th></th>\n",
       "      <th></th>\n",
       "      <th></th>\n",
       "      <th></th>\n",
       "      <th></th>\n",
       "      <th></th>\n",
       "      <th></th>\n",
       "      <th></th>\n",
       "      <th></th>\n",
       "      <th></th>\n",
       "      <th></th>\n",
       "      <th></th>\n",
       "    </tr>\n",
       "  </thead>\n",
       "  <tbody>\n",
       "    <tr>\n",
       "      <th>0</th>\n",
       "      <td>239</td>\n",
       "      <td>239</td>\n",
       "      <td>66</td>\n",
       "      <td>64</td>\n",
       "      <td>63</td>\n",
       "      <td>63</td>\n",
       "      <td>63</td>\n",
       "      <td>16</td>\n",
       "      <td>237</td>\n",
       "      <td>237</td>\n",
       "      <td>...</td>\n",
       "      <td>2</td>\n",
       "      <td>1</td>\n",
       "      <td>0</td>\n",
       "      <td>3</td>\n",
       "      <td>2</td>\n",
       "      <td>1</td>\n",
       "      <td>0</td>\n",
       "      <td>11</td>\n",
       "      <td>3</td>\n",
       "      <td>0</td>\n",
       "    </tr>\n",
       "    <tr>\n",
       "      <th>1</th>\n",
       "      <td>182</td>\n",
       "      <td>182</td>\n",
       "      <td>26</td>\n",
       "      <td>24</td>\n",
       "      <td>24</td>\n",
       "      <td>24</td>\n",
       "      <td>24</td>\n",
       "      <td>10</td>\n",
       "      <td>177</td>\n",
       "      <td>181</td>\n",
       "      <td>...</td>\n",
       "      <td>2</td>\n",
       "      <td>0</td>\n",
       "      <td>0</td>\n",
       "      <td>2</td>\n",
       "      <td>1</td>\n",
       "      <td>2</td>\n",
       "      <td>2</td>\n",
       "      <td>2</td>\n",
       "      <td>0</td>\n",
       "      <td>1</td>\n",
       "    </tr>\n",
       "  </tbody>\n",
       "</table>\n",
       "<p>2 rows × 63 columns</p>\n",
       "</div>"
      ],
      "text/plain": [
       "       Burrito  Date  Neighborhood  Address  URL  Yelp  Google  Chips  Cost  \\\n",
       "Great                                                                         \n",
       "0          239   239            66       64   63    63      63     16   237   \n",
       "1          182   182            26       24   24    24      24     10   177   \n",
       "\n",
       "       Hunger  ...  Nopales  Lobster  Queso  Egg  Mushroom  Bacon  Sushi  \\\n",
       "Great          ...                                                         \n",
       "0         237  ...        2        1      0    3         2      1      0   \n",
       "1         181  ...        2        0      0    2         1      2      2   \n",
       "\n",
       "       Avocado  Corn  Zucchini  \n",
       "Great                           \n",
       "0           11     3         0  \n",
       "1            2     0         1  \n",
       "\n",
       "[2 rows x 63 columns]"
      ]
     },
     "execution_count": 37,
     "metadata": {},
     "output_type": "execute_result"
    }
   ],
   "source": [
    "df.groupby(['Great']).count()"
   ]
  },
  {
   "cell_type": "markdown",
   "metadata": {},
   "source": [
    "Visual representation of the target column: positive 'True' and negative 'False':"
   ]
  },
  {
   "cell_type": "code",
   "execution_count": 68,
   "metadata": {},
   "outputs": [
    {
     "data": {
      "image/png": "[encoded data removed]",
      "text/plain": [
       "<Figure size 432x288 with 1 Axes>"
      ]
     },
     "metadata": {
      "needs_background": "light"
     },
     "output_type": "display_data"
    }
   ],
   "source": [
    "import seaborn as sns\n",
    "import matplotlib\n",
    "import matplotlib.pyplot as plt\n",
    "matplotlib.style.use('ggplot')\n",
    "sns.set(rc={'figure.figsize':(18, 14)})\n",
    "%matplotlib inline\n",
    "\n",
    "df.groupby(['Great'])['Great'].count().plot(kind='barh')\n",
    "plt.show()"
   ]
  },
  {
   "cell_type": "markdown",
   "metadata": {},
   "source": [
    "Note, some features are categorical coded with 'X' or 'x':"
   ]
  },
  {
   "cell_type": "code",
   "execution_count": null,
   "metadata": {},
   "outputs": [],
   "source": [
    "categorical = ['Beef', 'Pico', 'Guac', 'Cheese',\n",
    "               'Fries', 'Sour cream', 'Pork', 'Chicken', 'Shrimp', 'Fish', 'Rice',\n",
    "               'Beans', 'Lettuce', 'Tomato', 'Bell peper', 'Carrots', 'Cabbage',\n",
    "               'Sauce', 'Salsa.1', 'Cilantro', 'Onion', 'Taquito', 'Pineapple', 'Ham',\n",
    "               'Chile relleno', 'Nopales', 'Lobster', 'Queso', 'Egg', 'Mushroom',\n",
    "               'Bacon', 'Sushi', 'Avocado', 'Corn', 'Zucchini']"
   ]
  },
  {
   "cell_type": "markdown",
   "metadata": {},
   "source": [
    "Check features on ordinary scale (i.e. ratings), expected scale from 0 to 5:"
   ]
  },
  {
   "cell_type": "code",
   "execution_count": 69,
   "metadata": {},
   "outputs": [
    {
     "data": {
      "image/png": "[encoded data removed]",
      "text/plain": [
       "<Figure size 864x504 with 1 Axes>"
      ]
     },
     "metadata": {
      "needs_background": "light"
     },
     "output_type": "display_data"
    }
   ],
   "source": [
    "ordinal = ['Yelp', 'Google', 'Hunger', 'Tortilla', \n",
    "           'Temp', 'Meat', 'Fillings', 'Meat:filling', \n",
    "           'Uniformity', 'Salsa', 'Synergy', 'Wrap']\n",
    "\n",
    "df[ordinal].plot(kind=\"box\", vert=False, sym='r+')\n",
    "plt.gcf().set_size_inches(12, 7)\n",
    "plt.show()"
   ]
  },
  {
   "cell_type": "markdown",
   "metadata": {},
   "source": [
    "Check continuous variables:"
   ]
  },
  {
   "cell_type": "code",
   "execution_count": 49,
   "metadata": {},
   "outputs": [],
   "source": [
    "continuous = ['Cost', 'Mass (g)', 'Density (g/mL)', \n",
    "              'Length', 'Circum', 'Volume']"
   ]
  },
  {
   "cell_type": "markdown",
   "metadata": {},
   "source": [
    "Two possible explanatory variables: `'Cost'` and `'Mass (g)'`"
   ]
  },
  {
   "cell_type": "code",
   "execution_count": 58,
   "metadata": {},
   "outputs": [
    {
     "data": {
      "image/png": "[encoded data removed]",
      "text/plain": [
       "<Figure size 432x288 with 1 Axes>"
      ]
     },
     "metadata": {
      "needs_background": "light"
     },
     "output_type": "display_data"
    }
   ],
   "source": [
    "ax = df[continuous[0]].plot(kind='kde')\n",
    "ax.set(xlabel=continuous[0])\n",
    "plt.show()"
   ]
  },
  {
   "cell_type": "code",
   "execution_count": 59,
   "metadata": {},
   "outputs": [
    {
     "data": {
      "image/png": "[encoded data removed]",
      "text/plain": [
       "<Figure size 432x288 with 1 Axes>"
      ]
     },
     "metadata": {
      "needs_background": "light"
     },
     "output_type": "display_data"
    }
   ],
   "source": [
    "ax = df[continuous[1]].plot(kind='kde')\n",
    "ax.set(xlabel=continuous[1])\n",
    "plt.show()"
   ]
  },
  {
   "cell_type": "markdown",
   "metadata": {},
   "source": [
    "Possible inputs for baseline Naive Classifier"
   ]
  },
  {
   "cell_type": "code",
   "execution_count": 70,
   "metadata": {},
   "outputs": [
    {
     "data": {
      "image/png": "[encoded data removed]",
      "text/plain": [
       "<Figure size 864x504 with 3 Axes>"
      ]
     },
     "metadata": {
      "needs_background": "light"
     },
     "output_type": "display_data"
    }
   ],
   "source": [
    "sns.jointplot(continuous[0], \n",
    "              continuous[1], \n",
    "              data=df,\n",
    "              height=5, \n",
    "              ratio=3, \n",
    "              color=\"b\"\n",
    "             ).plot_joint(sns.kdeplot, zorder=0, n_levels=6)\n",
    "\n",
    "plt.gcf().set_size_inches(12, 7)\n",
    "plt.title(\"Joint distribution of Cost and Mass\", fontsize=12)\n",
    "plt.show()"
   ]
  },
  {
   "cell_type": "markdown",
   "metadata": {
    "id": "nPo-X3PrMjch"
   },
   "source": [
    "### Clean data"
   ]
  },
  {
   "cell_type": "code",
   "execution_count": 77,
   "metadata": {
    "id": "l2d5QXhdO5a_"
   },
   "outputs": [],
   "source": [
    "#from datetime import datetime\n",
    "df.Date = pd.to_datetime(df.Date)"
   ]
  },
  {
   "cell_type": "code",
   "execution_count": null,
   "metadata": {},
   "outputs": [],
   "source": []
  },
  {
   "cell_type": "markdown",
   "metadata": {
    "id": "V-r9VFXGNDYi"
   },
   "source": [
    "### Do train/validate/test split"
   ]
  },
  {
   "cell_type": "code",
   "execution_count": 131,
   "metadata": {
    "id": "iCSW2gSTO7L2"
   },
   "outputs": [],
   "source": [
    "# Train on reviews from 2016 & earlier (expected 298 instances)\n",
    "X_train = df.loc[df.Date < '2017']\n",
    "y_train = X_train.pop('Great')"
   ]
  },
  {
   "cell_type": "code",
   "execution_count": 132,
   "metadata": {},
   "outputs": [],
   "source": [
    "# Validate on 2017 (expected 85 instances)\n",
    "X_validate = df.loc[(df.Date > '2017') & (df.Date < '2018')]\n",
    "y_validate = X_validate.pop('Great')"
   ]
  },
  {
   "cell_type": "code",
   "execution_count": 133,
   "metadata": {},
   "outputs": [],
   "source": [
    "# Test on 2018 & later (expected 38 instances)\n",
    "X_test = df.loc[df.Date > '2018']\n",
    "y_test = X_test.pop('Great')"
   ]
  },
  {
   "cell_type": "markdown",
   "metadata": {
    "id": "yoYlNeRGNJWK"
   },
   "source": [
    "### Determine baseline accuracy for a naïve classification model"
   ]
  },
  {
   "cell_type": "markdown",
   "metadata": {},
   "source": [
    "? Naive Bayes ? Price and Volume?"
   ]
  },
  {
   "cell_type": "code",
   "execution_count": null,
   "metadata": {
    "id": "Ku0QDc4qssET"
   },
   "outputs": [],
   "source": []
  },
  {
   "cell_type": "markdown",
   "metadata": {
    "id": "3G7N-f7FNTwu"
   },
   "source": [
    "### Create a `scikit-learn` pipeline"
   ]
  },
  {
   "cell_type": "markdown",
   "metadata": {},
   "source": [
    "- A one hot encoder for categorical features.\n",
    "- A scaler.\n",
    "- A logistic regressor."
   ]
  },
  {
   "cell_type": "code",
   "execution_count": null,
   "metadata": {
    "id": "vKpTLm4btK7b"
   },
   "outputs": [],
   "source": [
    "# One hot encoding\n",
    "df_nyc_onehot = pd.get_dummies(df_nyc_venues[['Venue Category']], prefix=\"\", prefix_sep=\"\")\n",
    "\n",
    "# Add neighborhood column back to dataframe\n",
    "df_nyc_onehot['Zip'] = df_nyc_venues['Zip'] \n",
    "\n",
    "# Move neighborhood column to the first column\n",
    "fixed_columns = [df_nyc_onehot.columns[-1]] + list(df_nyc_onehot.columns[:-1])\n",
    "df_nyc_onehot = df_nyc_onehot[fixed_columns]\n",
    "\n",
    "df_nyc_onehot.head()"
   ]
  },
  {
   "cell_type": "markdown",
   "metadata": {
    "id": "vpzhx5iJNsGs"
   },
   "source": [
    "### Train model using training data"
   ]
  },
  {
   "cell_type": "code",
   "execution_count": null,
   "metadata": {
    "id": "rQ1IpBQlNrRb"
   },
   "outputs": [],
   "source": []
  },
  {
   "cell_type": "markdown",
   "metadata": {
    "id": "zaBBzwJ5N0mD"
   },
   "source": [
    "### Create visualization of model coefficients"
   ]
  },
  {
   "cell_type": "code",
   "execution_count": null,
   "metadata": {
    "id": "JWXwGmjXtgu7"
   },
   "outputs": [],
   "source": []
  },
  {
   "cell_type": "markdown",
   "metadata": {
    "id": "ACl7NaeROBn3"
   },
   "source": [
    "### Get model's validation accuracy"
   ]
  },
  {
   "cell_type": "code",
   "execution_count": null,
   "metadata": {
    "id": "PHIMBkQwut7r"
   },
   "outputs": [],
   "source": []
  },
  {
   "cell_type": "markdown",
   "metadata": {
    "id": "K3xJZKOaOE1p"
   },
   "source": [
    "### Get your model's test accuracy"
   ]
  },
  {
   "cell_type": "code",
   "execution_count": null,
   "metadata": {
    "id": "gJ9HEVcIxJt7"
   },
   "outputs": [],
   "source": []
  }
 ],
 "metadata": {
  "colab": {
   "collapsed_sections": [],
   "name": "2020-07-13_associate-instructor-technical.ipynb",
   "provenance": []
  },
  "kernelspec": {
   "display_name": "Python 3",
   "language": "python",
   "name": "python3"
  },
  "language_info": {
   "codemirror_mode": {
    "name": "ipython",
    "version": 3
   },
   "file_extension": ".py",
   "mimetype": "text/x-python",
   "name": "python",
   "nbconvert_exporter": "python",
   "pygments_lexer": "ipython3",
   "version": "3.8.3"
  }
 },
 "nbformat": 4,
 "nbformat_minor": 1
}
