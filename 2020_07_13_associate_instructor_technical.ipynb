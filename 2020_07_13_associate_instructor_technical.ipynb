{
  "nbformat": 4,
  "nbformat_minor": 0,
  "metadata": {
    "kernelspec": {
      "display_name": "Python 3",
      "language": "python",
      "name": "python3"
    },
    "language_info": {
      "codemirror_mode": {
        "name": "ipython",
        "version": 3
      },
      "file_extension": ".py",
      "mimetype": "text/x-python",
      "name": "python",
      "nbconvert_exporter": "python",
      "pygments_lexer": "ipython3",
      "version": "3.7.3"
    },
    "colab": {
      "name": "2020-07-13_associate-instructor-technical.ipynb",
      "provenance": [],
      "collapsed_sections": []
    }
  },
  "cells": [
    {
      "cell_type": "markdown",
      "metadata": {
        "id": "_Gvm1BZXjuBx"
      },
      "source": [
        "Lambda School Data Science\n",
        "\n",
        "---"
      ]
    },
    {
      "cell_type": "markdown",
      "metadata": {
        "id": "7IXUfiQ2UKj6"
      },
      "source": [
        "# Logistic Regression\n",
        "\n",
        "\n",
        "## Assignment 🌯\n",
        "\n",
        "Using a [**dataset of 400+ burrito reviews**](https://srcole.github.io/100burritos/), build a model that predicts whether a burrito is rated `'Great'`?\n",
        "\n",
        "## What We Want\n",
        "\n",
        "*Associate Instructor* is a teaching position where you will work closely students — delivering curriculum, and leading question and answer sessions. The purpose of this assignment is to give us an idea of how you approach data science problems and whether you can explain that approach to someone who does not yet have your level of expertise. Given this, we are less interested you building a \"perfect\" model and more focused on how you use this assignment to teach important concepts to a data science student.\n",
        "\n",
        "## What You Need to Do\n",
        "\n",
        "- [ ] Make a copy of this notebook to work on - you can download if you have a local Jupyter setup, or click `File > Save a copy in Drive` to copy and work on with Google Colab\n",
        "- [ ] Import the burrito `csv` file into a `DataFrame`. Your target will be the `'Great'` column.\n",
        "- [ ] Conduct exploratory data analysis (EDA) to determine how you should clean the data for your pipeline.\n",
        "- [ ] Clean your data. (Note: You are not required to use all columns in your model, but justify your decisions based on your EDA.)\n",
        "- [ ] Do train/validate/test split. Train on reviews from 2016 & earlier. Validate on 2017. Test on 2018 & later.\n",
        "- [ ] Determine what the baseline accuracy is for a naïve classification model.\n",
        "- [ ] Create a `scikit-learn` pipeline with the following components:\n",
        "  - A one hot encoder for categorical features.\n",
        "  - A scaler.\n",
        "  - A logistic regressor.\n",
        "- [ ] Train your model using the training data.\n",
        "- [ ] Create a visualization showing your model's coefficients.\n",
        "- [ ] Get your model's validation accuracy (multiple times if you try multiple iterations).\n",
        "- [ ] Get your model's test accuracy (one time, at the end).\n",
        "\n",
        "---"
      ]
    },
    {
      "cell_type": "markdown",
      "metadata": {
        "id": "UhHu6AF7ML3p"
      },
      "source": [
        "### Import the burrito `csv` file"
      ]
    },
    {
      "cell_type": "code",
      "metadata": {
        "id": "stdgqGAYjuB3"
      },
      "source": [
        "# Import Data\n",
        "import pandas as pd\n",
        "df = pd.read_csv('https://drive.google.com/uc?export=download&id=1cctPq1sYeD6Y6mGg5Lpl-GLDJBwtdihg')"
      ],
      "execution_count": null,
      "outputs": []
    },
    {
      "cell_type": "markdown",
      "metadata": {
        "id": "4km-WYWpMoYw"
      },
      "source": [
        "### Conduct exploratory data analysis (EDA)"
      ]
    },
    {
      "cell_type": "code",
      "metadata": {
        "id": "gLoRSPwFOrg1"
      },
      "source": [
        ""
      ],
      "execution_count": null,
      "outputs": []
    },
    {
      "cell_type": "markdown",
      "metadata": {
        "id": "nPo-X3PrMjch"
      },
      "source": [
        "### Clean data"
      ]
    },
    {
      "cell_type": "code",
      "metadata": {
        "id": "l2d5QXhdO5a_"
      },
      "source": [
        ""
      ],
      "execution_count": null,
      "outputs": []
    },
    {
      "cell_type": "markdown",
      "metadata": {
        "id": "V-r9VFXGNDYi"
      },
      "source": [
        "### Do train/validate/test split"
      ]
    },
    {
      "cell_type": "code",
      "metadata": {
        "id": "iCSW2gSTO7L2"
      },
      "source": [
        ""
      ],
      "execution_count": null,
      "outputs": []
    },
    {
      "cell_type": "markdown",
      "metadata": {
        "id": "yoYlNeRGNJWK"
      },
      "source": [
        "### Determine baseline accuracy for a naïve classification model"
      ]
    },
    {
      "cell_type": "code",
      "metadata": {
        "id": "Ku0QDc4qssET"
      },
      "source": [
        ""
      ],
      "execution_count": null,
      "outputs": []
    },
    {
      "cell_type": "markdown",
      "metadata": {
        "id": "3G7N-f7FNTwu"
      },
      "source": [
        "### Create a `scikit-learn` pipeline"
      ]
    },
    {
      "cell_type": "code",
      "metadata": {
        "id": "vKpTLm4btK7b"
      },
      "source": [
        ""
      ],
      "execution_count": null,
      "outputs": []
    },
    {
      "cell_type": "markdown",
      "metadata": {
        "id": "vpzhx5iJNsGs"
      },
      "source": [
        "### Train model using training data"
      ]
    },
    {
      "cell_type": "code",
      "metadata": {
        "id": "rQ1IpBQlNrRb"
      },
      "source": [
        ""
      ],
      "execution_count": null,
      "outputs": []
    },
    {
      "cell_type": "markdown",
      "metadata": {
        "id": "zaBBzwJ5N0mD"
      },
      "source": [
        "### Create visualization of model coefficients"
      ]
    },
    {
      "cell_type": "code",
      "metadata": {
        "id": "JWXwGmjXtgu7"
      },
      "source": [
        ""
      ],
      "execution_count": null,
      "outputs": []
    },
    {
      "cell_type": "markdown",
      "metadata": {
        "id": "ACl7NaeROBn3"
      },
      "source": [
        "### Get model's validation accuracy"
      ]
    },
    {
      "cell_type": "code",
      "metadata": {
        "id": "PHIMBkQwut7r"
      },
      "source": [
        ""
      ],
      "execution_count": null,
      "outputs": []
    },
    {
      "cell_type": "markdown",
      "metadata": {
        "id": "K3xJZKOaOE1p"
      },
      "source": [
        "### Get your model's test accuracy"
      ]
    },
    {
      "cell_type": "code",
      "metadata": {
        "id": "gJ9HEVcIxJt7"
      },
      "source": [
        ""
      ],
      "execution_count": null,
      "outputs": []
    }
  ]
}