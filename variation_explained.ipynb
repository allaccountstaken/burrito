{
 "cells": [
  {
   "cell_type": "markdown",
   "metadata": {},
   "source": [
    ">NOTE: this discussion should follow introduction to measures of central tendency, at least median and mean should have been introduced."
   ]
  },
  {
   "cell_type": "markdown",
   "metadata": {},
   "source": [
    "#  Variation/variability in descriptive statistics\n",
    "\n",
    "Using descriptive statistics, you can report characteristics of your data:\n",
    "\n",
    " - The distribution concerns the frequency of each value.\n",
    " - The central tendency concerns the averages of the values.\n",
    " - The variability concerns how spread out the values are."
   ]
  },
  {
   "cell_type": "markdown",
   "metadata": {},
   "source": [
    "## Motivating example"
   ]
  },
  {
   "cell_type": "code",
   "execution_count": 405,
   "metadata": {},
   "outputs": [
    {
     "name": "stdout",
     "output_type": "stream",
     "text": [
      "Condsider two arrays:  [-6  0  4  6  6 14] [-1  0  4  6  6  9]\n",
      "Comparing the means:  4.0 4.0\n",
      "Comparing the medians:  5.0 5.0\n"
     ]
    }
   ],
   "source": [
    "import numpy as np\n",
    "a_one = np.array([-6, 0, 4, 6, 6, 14])\n",
    "a_two = np.array([-1, 0, 4, 6, 6, 9])\n",
    "\n",
    "print(\"Condsider two arrays: \", a_one, a_two)\n",
    "print(\"Comparing the means: \", a_one.mean(), a_two.mean())\n",
    "print(\"Comparing the medians: \", np.median(a_one), np.median(a_two))"
   ]
  },
  {
   "cell_type": "code",
   "execution_count": 406,
   "metadata": {},
   "outputs": [
    {
     "data": {
      "image/png": "[encoded data removed]",
      "text/plain": [
       "<Figure size 432x288 with 1 Axes>"
      ]
     },
     "metadata": {
      "needs_background": "light"
     },
     "output_type": "display_data"
    }
   ],
   "source": [
    "import matplotlib.pyplot as plt\n",
    "plt.hist([a_one, a_two], histtype='bar', color = ('blue', 'green'), edgecolor = 'black', cumulative=0)\n",
    "plt.show()"
   ]
  },
  {
   "cell_type": "markdown",
   "metadata": {},
   "source": [
    "## Why measuring variation is so important?"
   ]
  },
  {
   "cell_type": "markdown",
   "metadata": {},
   "source": [
    "Weather forecast example. Flood in one area but drought in the other. On average all looks fine, but the problem is in the tails of distribution."
   ]
  },
  {
   "cell_type": "code",
   "execution_count": 407,
   "metadata": {},
   "outputs": [
    {
     "data": {
      "image/png": "[encoded data removed]",
      "text/plain": [
       "<Figure size 432x288 with 1 Axes>"
      ]
     },
     "metadata": {
      "needs_background": "light"
     },
     "output_type": "display_data"
    }
   ],
   "source": [
    "from sklearn.datasets import make_blobs, make_moons\n",
    "import matplotlib.pyplot as plt\n",
    "\n",
    "X_1, y = make_blobs(n_samples=100, centers=1, n_features=1, random_state=0)\n",
    "plt.hist(X_1, color = 'blue', edgecolor = 'black')\n",
    "\n",
    "plt.show()"
   ]
  },
  {
   "cell_type": "markdown",
   "metadata": {},
   "source": [
    "## Four big ideas"
   ]
  },
  {
   "cell_type": "markdown",
   "metadata": {},
   "source": [
    "Today let's focus on **variation** (amount of dispersion in the dataset). As you already know there are multiple measures of central tendency. Similarly, there are multiple measures of dispersion:\n",
    " - Range (max - min)\n",
    " - Interquartile Range (IQR), i.e Q3 - Q1 or 75th percentile - 25th percentile\n",
    " - Variance, i.e sum of squared differences\n",
    " - Standard deviation to get back original units\n",
    " "
   ]
  },
  {
   "cell_type": "markdown",
   "metadata": {},
   "source": [
    "### Range"
   ]
  },
  {
   "cell_type": "markdown",
   "metadata": {},
   "source": [
    "While is is very easy to understand, it is not always good because it can be influenced by outliers.\n",
    "\n",
    "when you draw random samples from the same population, the range tends to increase as the sample size increases. Consequently, use the range to compare variability only when the sample sizes are similar."
   ]
  },
  {
   "cell_type": "code",
   "execution_count": 409,
   "metadata": {},
   "outputs": [
    {
     "name": "stdout",
     "output_type": "stream",
     "text": [
      "Range of the first array:  20\n",
      "Range of the second array:  10\n"
     ]
    }
   ],
   "source": [
    "print(\"Range of the first array: \", max(a_one) - min(a_one))\n",
    "print(\"Range of the second array: \", max(a_two) - min(a_two))"
   ]
  },
  {
   "cell_type": "markdown",
   "metadata": {},
   "source": [
    "### Function to compute range"
   ]
  },
  {
   "cell_type": "markdown",
   "metadata": {},
   "source": [
    "Steps:\n",
    "1. Sort the input array\n",
    "2. Locate the largest value\n",
    "3. Subtract the smallest value \n",
    "4. Report the difference"
   ]
  },
  {
   "cell_type": "code",
   "execution_count": 440,
   "metadata": {},
   "outputs": [],
   "source": [
    "def compute_range(X):\n",
    "    X_max = sorted(X)[-1]\n",
    "    X_min = sorted(X)[0]\n",
    "    diff = X_max - X_min\n",
    "    return diff\n",
    "    "
   ]
  },
  {
   "cell_type": "code",
   "execution_count": 442,
   "metadata": {},
   "outputs": [
    {
     "data": {
      "text/plain": [
       "array([4.81352898])"
      ]
     },
     "execution_count": 442,
     "metadata": {},
     "output_type": "execute_result"
    }
   ],
   "source": [
    "compute_range(X_1)"
   ]
  },
  {
   "cell_type": "markdown",
   "metadata": {},
   "source": [
    "Create another array X_2 by introducing a new large observation, compare means and ranges:"
   ]
  },
  {
   "cell_type": "code",
   "execution_count": 447,
   "metadata": {},
   "outputs": [
    {
     "name": "stdout",
     "output_type": "stream",
     "text": [
      "Original mean 1.110102196019141 and shifted mean 1.1540047346432072\n"
     ]
    }
   ],
   "source": [
    "X_2 = X_1.copy()\n",
    "X_2[0][0] = 5\n",
    "print('Original mean {} and shifted mean {}'.format(X_1.mean(), X_2.mean()))"
   ]
  },
  {
   "cell_type": "markdown",
   "metadata": {},
   "source": [
    "Use `compute_range()` function to check how different the variation really is:"
   ]
  },
  {
   "cell_type": "code",
   "execution_count": 450,
   "metadata": {},
   "outputs": [
    {
     "name": "stdout",
     "output_type": "stream",
     "text": [
      "Range of the first blob:  [4.81352898]\n",
      "Range of the second blob:  [6.29205812]\n"
     ]
    }
   ],
   "source": [
    "print(\"Range of the first blob: \", compute_range(X_1))\n",
    "print(\"Range of the second blob: \", compute_range(X_2))"
   ]
  },
  {
   "cell_type": "code",
   "execution_count": 451,
   "metadata": {},
   "outputs": [
    {
     "data": {
      "image/png": "[encoded data removed]",
      "text/plain": [
       "<Figure size 1080x360 with 2 Axes>"
      ]
     },
     "metadata": {
      "needs_background": "light"
     },
     "output_type": "display_data"
    }
   ],
   "source": [
    "plt.figure(figsize=(15,5))\n",
    "plt.subplot(1, 2, 1)\n",
    "plt.hist(X_1, color = 'blue', edgecolor = 'black', bins=20)\n",
    "plt.axvline(X_1.mean(), color='r', linestyle='dashed', linewidth=3)\n",
    "plt.title(\"Original sample\")\n",
    "\n",
    "plt.subplot(1, 2, 2)\n",
    "plt.hist(X_2, color = 'green', edgecolor = 'black', bins=20)\n",
    "plt.axvline(X_2.mean(), color='r', linestyle='dashed', linewidth=3)\n",
    "\n",
    "plt.title(\"Shifted with an outlier\")\n",
    "\n",
    "plt.suptitle(\"Comparing two samples\")\n",
    "plt.show()"
   ]
  },
  {
   "cell_type": "markdown",
   "metadata": {},
   "source": [
    "### Interquartile Range (IQR)"
   ]
  },
  {
   "cell_type": "code",
   "execution_count": 413,
   "metadata": {},
   "outputs": [
    {
     "data": {
      "image/png": "[encoded data removed]",
      "text/plain": [
       "<Figure size 432x288 with 2 Axes>"
      ]
     },
     "metadata": {
      "needs_background": "light"
     },
     "output_type": "display_data"
    }
   ],
   "source": [
    "fig, axs = plt.subplots(1, 2)\n",
    "\n",
    "# basic plot\n",
    "axs[0].boxplot(a_one, 0, 'rs', 0)\n",
    "axs[0].set_title('First arrary')\n",
    "\n",
    "# notched plot\n",
    "axs[1].boxplot(a_two, 0, 'rs', 0)\n",
    "axs[1].set_title('Second array')\n",
    "\n",
    "plt.show()"
   ]
  },
  {
   "cell_type": "markdown",
   "metadata": {},
   "source": [
    "As median spits sample in half or 50%, do median again on both halves and this operation will give you Q1 and Q2 of the first half and Q3 and Q4 for the second half. Now, drop the bottom (Q1) and the top (Q4), i.e. focus on the center (Q2+Q3).\n",
    "\n",
    "Again, similar to median, this measure works well on heavily skewed distributions. \n",
    "\n",
    "Note, one can use other percentiles to define custom cut off points. For example 90th and 10th range will focus on the middle 80% of observations. "
   ]
  },
  {
   "cell_type": "code",
   "execution_count": 415,
   "metadata": {},
   "outputs": [
    {
     "data": {
      "image/png": "[encoded data removed]",
      "text/plain": [
       "<Figure size 432x288 with 2 Axes>"
      ]
     },
     "metadata": {
      "needs_background": "light"
     },
     "output_type": "display_data"
    }
   ],
   "source": [
    "fig, axs = plt.subplots(1, 2)\n",
    "\n",
    "axs[0].boxplot(X_1, 1, 'rs', 0)\n",
    "axs[0].set_title('Original sample')\n",
    "\n",
    "axs[1].boxplot(X_2, 1, 'rs', 0)\n",
    "axs[1].set_title('Shifted with an outlier')\n",
    "\n",
    "plt.show()"
   ]
  },
  {
   "cell_type": "markdown",
   "metadata": {},
   "source": [
    "### Function to compute IQR"
   ]
  },
  {
   "cell_type": "markdown",
   "metadata": {},
   "source": [
    "Steps:\n",
    "1. Get the length on the input array\n",
    "2. Calculate what the value of percentile is given the length\n",
    "3. Sort the data and slice required percentile\n",
    "4. Return the slice"
   ]
  },
  {
   "cell_type": "code",
   "execution_count": 560,
   "metadata": {},
   "outputs": [],
   "source": [
    "def compute_iqr(X, percentile):\n",
    "    input_length = len(X)\n",
    "    lower_boundary = input_length * min(percentile)\n",
    "    upper_boundary = input_length * max(percentile)\n",
    "    selected_slice =  sorted(X)[int(lower_boundary):int(upper_boundary)]\n",
    "    return selected_slice"
   ]
  },
  {
   "cell_type": "code",
   "execution_count": 562,
   "metadata": {},
   "outputs": [
    {
     "data": {
      "text/plain": [
       "[1, 2, 3, 4, 5, 6, 7]"
      ]
     },
     "execution_count": 562,
     "metadata": {},
     "output_type": "execute_result"
    }
   ],
   "source": [
    "test_array = [0, 1, 2, 3, 4, 5, 6, 7, 8, 9]\n",
    "compute_iqr(test_array, (0.1, 0.8))"
   ]
  },
  {
   "cell_type": "markdown",
   "metadata": {},
   "source": [
    "### Variance"
   ]
  },
  {
   "cell_type": "markdown",
   "metadata": {},
   "source": [
    "This is simply squared difference from the mean averaged by the number of observations.\n",
    "\n",
    "Steps:\n",
    "1. Compute average of all observations\n",
    "2. Compute difference from the average\n",
    "3. Square the differences\n",
    "4. Sum up all squared differences\n",
    "5. Divide by the number of observations\n",
    "\n",
    "\n"
   ]
  },
  {
   "cell_type": "code",
   "execution_count": 597,
   "metadata": {},
   "outputs": [],
   "source": [
    "def compute_variance(X):\n",
    "    diff_sum = 0\n",
    "    for i in range(len(X)):\n",
    "        diff_squared = (X.mean() - X[i])**2\n",
    "        diff_sum = diff_sum + diff_squared\n",
    "    variance = diff_sum / len(X)\n",
    "    return variance"
   ]
  },
  {
   "cell_type": "code",
   "execution_count": 596,
   "metadata": {},
   "outputs": [
    {
     "data": {
      "text/plain": [
       "array([0.90465842])"
      ]
     },
     "execution_count": 596,
     "metadata": {},
     "output_type": "execute_result"
    }
   ],
   "source": [
    "compute_variance(X_1)"
   ]
  },
  {
   "cell_type": "code",
   "execution_count": 587,
   "metadata": {},
   "outputs": [
    {
     "data": {
      "text/plain": [
       "0.9046584165998773"
      ]
     },
     "execution_count": 587,
     "metadata": {},
     "output_type": "execute_result"
    }
   ],
   "source": [
    "np.var(X_1)"
   ]
  },
  {
   "cell_type": "markdown",
   "metadata": {},
   "source": [
    "### Standard deviation"
   ]
  },
  {
   "cell_type": "markdown",
   "metadata": {},
   "source": [
    "Same as variance but \"standardized\" - simply take the square root of the variance to go back to original units, i.e pounds or gallons."
   ]
  },
  {
   "cell_type": "code",
   "execution_count": 599,
   "metadata": {},
   "outputs": [
    {
     "data": {
      "text/plain": [
       "array([0.95113533])"
      ]
     },
     "execution_count": 599,
     "metadata": {},
     "output_type": "execute_result"
    }
   ],
   "source": [
    "std = (compute_variance(X_1))**(1/2)\n",
    "std"
   ]
  },
  {
   "cell_type": "code",
   "execution_count": 600,
   "metadata": {},
   "outputs": [
    {
     "data": {
      "text/plain": [
       "0.9511353303289061"
      ]
     },
     "execution_count": 600,
     "metadata": {},
     "output_type": "execute_result"
    }
   ],
   "source": [
    "np.std(X_1)"
   ]
  },
  {
   "cell_type": "markdown",
   "metadata": {},
   "source": [
    "### Special case of Normal Distribution"
   ]
  },
  {
   "cell_type": "markdown",
   "metadata": {},
   "source": [
    "The Empirical Rule for the Standard Deviation of a Normal Distribution:"
   ]
  },
  {
   "cell_type": "markdown",
   "metadata": {},
   "source": [
    "## When to use what?"
   ]
  },
  {
   "cell_type": "markdown",
   "metadata": {},
   "source": [
    "1. **Range** is good for small and similar samples, be aware of outliers\n",
    "2. **IQR** is good for skewed distributions\n",
    "3. **Standard deviation** is a square root of **variance**\n",
    "4. Note **absolute** and **relative** measures of variability "
   ]
  },
  {
   "cell_type": "markdown",
   "metadata": {},
   "source": [
    "## Note on statistical significance"
   ]
  },
  {
   "cell_type": "markdown",
   "metadata": {},
   "source": [
    "\n",
    "A 95% confidence interval means that if you repeat your study with a new sample in exactly the same way 100 times, you can expect your estimate to lie within the specified range of values 95 times."
   ]
  },
  {
   "cell_type": "markdown",
   "metadata": {},
   "source": [
    "## Examples"
   ]
  },
  {
   "cell_type": "markdown",
   "metadata": {},
   "source": [
    "Examples from finance:\n",
    "- Downside deviation (https://www.investopedia.com/terms/d/downside-deviation.asp)\n",
    "- Coefficient of Variation (Std / Mean), aka Relative Standard Deviation, dispersion of observations around the mean.This is a unit-free statistic and one where the higher the value the greater the dispersion. This is important for comparing prices for example (std / mean).\n",
    "- The Sharpe ratio indicates how well an equity investment is performing compared to a risk-free investment, taking into consideration the additional risk level involved with holding the equity investment. \n",
    "- The Sortino ratio is a variation of the Sharpe ratio that only factors in downside risk.(https://www.investopedia.com/ask/answers/010815/what-difference-between-sharpe-ratio-and-sortino-ratio.asp)"
   ]
  },
  {
   "cell_type": "markdown",
   "metadata": {},
   "source": [
    " > NOTE: coming next should probably be measures of **Co-Variance**, i.e. correlation.\n",
    " Pearson Correlation Coefficient\n",
    "Linear Correlation Coefficient\n",
    "Sample Correlation Coefficient\n",
    "Population Correlation Coefficient"
   ]
  },
  {
   "cell_type": "code",
   "execution_count": null,
   "metadata": {},
   "outputs": [],
   "source": []
  }
 ],
 "metadata": {
  "kernelspec": {
   "display_name": "Python 3",
   "language": "python",
   "name": "python3"
  },
  "language_info": {
   "codemirror_mode": {
    "name": "ipython",
    "version": 3
   },
   "file_extension": ".py",
   "mimetype": "text/x-python",
   "name": "python",
   "nbconvert_exporter": "python",
   "pygments_lexer": "ipython3",
   "version": "3.8.3"
  }
 },
 "nbformat": 4,
 "nbformat_minor": 4
}
