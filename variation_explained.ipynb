{
 "cells": [
  {
   "cell_type": "markdown",
   "metadata": {},
   "source": [
    ">NOTE: this discussion should follow introduction to measures of central tendency, at least median and mean should have been introduced."
   ]
  },
  {
   "cell_type": "markdown",
   "metadata": {},
   "source": [
    "#  Variation/variability in descriptive statistics\n",
    "\n",
    "Using descriptive statistics, you can report characteristics of your data:\n",
    "\n",
    " - The distribution concerns the frequency of each value.\n",
    " - The central tendency concerns the averages of the values.\n",
    " - The variability concerns how spread out the values are."
   ]
  },
  {
   "cell_type": "markdown",
   "metadata": {},
   "source": [
    "## Why measuring variation is so important?"
   ]
  },
  {
   "cell_type": "markdown",
   "metadata": {},
   "source": [
    "Weather forecast example. Flood in one area but drought in the other. On average all looks fine, but the problem is in the tails of distribution."
   ]
  },
  {
   "cell_type": "code",
   "execution_count": 53,
   "metadata": {},
   "outputs": [
    {
     "data": {
      "image/png": "[encoded data removed]",
      "text/plain": [
       "<Figure size 432x288 with 1 Axes>"
      ]
     },
     "metadata": {
      "needs_background": "light"
     },
     "output_type": "display_data"
    }
   ],
   "source": [
    "from sklearn.datasets import make_blobs, make_moons\n",
    "import matplotlib.pyplot as plt\n",
    "X = make_blobs(n_samples=100, centers=2, n_features=1, random_state=0)[0]\n",
    "plt.scatter(X, y)\n",
    "plt.show()"
   ]
  },
  {
   "cell_type": "code",
   "execution_count": 38,
   "metadata": {},
   "outputs": [
    {
     "data": {
      "text/plain": [
       "1.110102196019141"
      ]
     },
     "execution_count": 38,
     "metadata": {},
     "output_type": "execute_result"
    }
   ],
   "source": [
    "X.mean()"
   ]
  },
  {
   "cell_type": "code",
   "execution_count": 49,
   "metadata": {},
   "outputs": [
    {
     "data": {
      "image/png": "[encoded data removed]",
      "text/plain": [
       "<Figure size 432x288 with 1 Axes>"
      ]
     },
     "metadata": {
      "needs_background": "light"
     },
     "output_type": "display_data"
    }
   ],
   "source": [
    "X, y = make_blobs(n_samples=100, centers=1, n_features=1, random_state=0)\n",
    "plt.hist(X, color = 'blue', edgecolor = 'black', bins=20)\n",
    "plt.axvline(X.mean(), color='r', linestyle='dashed', linewidth=5)\n",
    "plt.show()"
   ]
  },
  {
   "cell_type": "code",
   "execution_count": 46,
   "metadata": {},
   "outputs": [
    {
     "data": {
      "text/plain": [
       "<matplotlib.collections.PathCollection at 0x7fd37de765e0>"
      ]
     },
     "execution_count": 46,
     "metadata": {},
     "output_type": "execute_result"
    },
    {
     "data": {
      "image/png": "[encoded data removed]",
      "text/plain": [
       "<Figure size 432x288 with 1 Axes>"
      ]
     },
     "metadata": {
      "needs_background": "light"
     },
     "output_type": "display_data"
    }
   ],
   "source": [
    "S, s = make_moons(noise=0.5, random_state=1, n_samples=100)\n",
    "\n",
    "plt.scatter(\n",
    "    x=X, y=s,\n",
    "    marker='o', s=25, edgecolor='k')"
   ]
  },
  {
   "cell_type": "code",
   "execution_count": 47,
   "metadata": {},
   "outputs": [
    {
     "data": {
      "text/plain": [
       "array([1, 1, 0, 1, 1, 0, 0, 1, 1, 1, 1, 0, 1, 1, 1, 0, 0, 0, 1, 0, 0, 1,\n",
       "       1, 1, 0, 0, 1, 0, 0, 0, 1, 1, 1, 1, 1, 0, 0, 1, 0, 0, 1, 1, 1, 0,\n",
       "       1, 0, 0, 1, 0, 1, 0, 1, 0, 0, 1, 0, 0, 1, 0, 1, 0, 1, 1, 0, 0, 1,\n",
       "       0, 1, 0, 1, 1, 0, 1, 1, 0, 1, 0, 1, 1, 0, 0, 0, 0, 0, 0, 1, 0, 0,\n",
       "       1, 1, 0, 0, 1, 1, 0, 1, 0, 1, 0, 0])"
      ]
     },
     "execution_count": 47,
     "metadata": {},
     "output_type": "execute_result"
    }
   ],
   "source": [
    "s"
   ]
  },
  {
   "cell_type": "markdown",
   "metadata": {},
   "source": [
    "> plot"
   ]
  },
  {
   "cell_type": "markdown",
   "metadata": {},
   "source": [
    "## Four big ideas"
   ]
  },
  {
   "cell_type": "markdown",
   "metadata": {},
   "source": [
    "Today let's focus on **variation** (amount of dispersion in the dataset). As you already know there are multiple measures of central tendency. Similarly, there are multiple measures of dispersion:\n",
    " - Range (max - min)\n",
    " - Interquartile Range (IQR), i.e Q3 - Q1 or 75th percentile - 25th percentile\n",
    " - Variance in population and sample\n",
    " - Standard deviation\n",
    " "
   ]
  },
  {
   "cell_type": "markdown",
   "metadata": {},
   "source": [
    "### Range"
   ]
  },
  {
   "cell_type": "markdown",
   "metadata": {},
   "source": [
    "While is is very easy to understand, it is not always good because it can be influenced by outliers.\n",
    "\n",
    "when you draw random samples from the same population, the range tends to increase as the sample size increases. Consequently, use the range to compare variability only when the sample sizes are similar."
   ]
  },
  {
   "cell_type": "markdown",
   "metadata": {},
   "source": [
    "***\n",
    ">plot: normal distribution with the same mean but different std*\n",
    "***"
   ]
  },
  {
   "cell_type": "markdown",
   "metadata": {},
   "source": [
    "### Interquartile Range (IQR)"
   ]
  },
  {
   "cell_type": "markdown",
   "metadata": {},
   "source": [
    "As median spits sample in half or 50%, do median again on both halves and this operation will give you Q1 and Q2 of the first half and Q3 and Q4 for the second half. Now, drop the bottom (Q1) and the top (Q4), i.e. focus on the center (Q2+Q3).\n",
    "\n",
    "Again, similar to median, this measure works well on heavily skewed distributions. \n",
    "\n",
    "Note, one can use other percentiles to define custom cut off points. For example 90th and 10th range will focus on the middle 80% of observations. "
   ]
  },
  {
   "cell_type": "markdown",
   "metadata": {},
   "source": [
    "### Variance"
   ]
  },
  {
   "cell_type": "markdown",
   "metadata": {},
   "source": [
    "This is simply squared difference from the mean averaged by the number of observations.\n",
    "\n",
    "Steps:\n",
    "1. Compute average of all observations\n",
    "2. Compute difference from the average\n",
    "3. Square the differences\n",
    "4. Sum up all squared differences\n",
    "5. Divide by the number of observations\n",
    "\n",
    "\n"
   ]
  },
  {
   "cell_type": "markdown",
   "metadata": {},
   "source": [
    "### Standard deviation"
   ]
  },
  {
   "cell_type": "markdown",
   "metadata": {},
   "source": [
    "Same as variance but \"standardized\" - simply take the square root of the variance to go back to original units, i.e pounds or gallons."
   ]
  },
  {
   "cell_type": "markdown",
   "metadata": {},
   "source": [
    "### Special case of Normal Distribution"
   ]
  },
  {
   "cell_type": "markdown",
   "metadata": {},
   "source": [
    "The Empirical Rule for the Standard Deviation of a Normal Distribution:"
   ]
  },
  {
   "cell_type": "markdown",
   "metadata": {},
   "source": [
    "## When to use what?"
   ]
  },
  {
   "cell_type": "markdown",
   "metadata": {},
   "source": [
    "1. **Range** is good for small and similar samples, be aware of outliers\n",
    "2. **IQR** is good for skewed distributions\n",
    "3. **Standard deviation** is a square root of **variance**\n",
    "4. Note **absolute** and **relative** measures of variability "
   ]
  },
  {
   "cell_type": "markdown",
   "metadata": {},
   "source": [
    "## Note on statistical significance"
   ]
  },
  {
   "cell_type": "markdown",
   "metadata": {},
   "source": [
    "\n",
    "A 95% confidence interval means that if you repeat your study with a new sample in exactly the same way 100 times, you can expect your estimate to lie within the specified range of values 95 times."
   ]
  },
  {
   "cell_type": "markdown",
   "metadata": {},
   "source": [
    "## Examples"
   ]
  },
  {
   "cell_type": "markdown",
   "metadata": {},
   "source": [
    "Examples from finance:\n",
    "- Downside deviation (https://www.investopedia.com/terms/d/downside-deviation.asp)\n",
    "- Coefficient of Variation (Std / Mean), aka Relative Standard Deviation, dispersion of observations around the mean.\n",
    "- The Sharpe ratio indicates how well an equity investment is performing compared to a risk-free investment, taking into consideration the additional risk level involved with holding the equity investment. \n",
    "- The Sortino ratio is a variation of the Sharpe ratio that only factors in downside risk.(https://www.investopedia.com/ask/answers/010815/what-difference-between-sharpe-ratio-and-sortino-ratio.asp)"
   ]
  },
  {
   "cell_type": "markdown",
   "metadata": {},
   "source": [
    " > NOTE: coming next should probably be measures of **Co-Variance**, i.e. correlation.\n",
    " Pearson Correlation Coefficient\n",
    "Linear Correlation Coefficient\n",
    "Sample Correlation Coefficient\n",
    "Population Correlation Coefficient"
   ]
  },
  {
   "cell_type": "code",
   "execution_count": null,
   "metadata": {},
   "outputs": [],
   "source": []
  }
 ],
 "metadata": {
  "kernelspec": {
   "display_name": "Python 3",
   "language": "python",
   "name": "python3"
  },
  "language_info": {
   "codemirror_mode": {
    "name": "ipython",
    "version": 3
   },
   "file_extension": ".py",
   "mimetype": "text/x-python",
   "name": "python",
   "nbconvert_exporter": "python",
   "pygments_lexer": "ipython3",
   "version": "3.8.3"
  }
 },
 "nbformat": 4,
 "nbformat_minor": 4
}
